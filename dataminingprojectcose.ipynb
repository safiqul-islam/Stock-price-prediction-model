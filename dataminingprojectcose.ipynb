{
  "nbformat": 4,
  "nbformat_minor": 0,
  "metadata": {
    "colab": {
      "name": "dataminingprojectcose.ipynb",
      "provenance": [],
      "authorship_tag": "ABX9TyMmUhWn08XMyPn1MPM4Banr",
      "include_colab_link": true
    },
    "kernelspec": {
      "name": "python3",
      "display_name": "Python 3"
    },
    "language_info": {
      "name": "python"
    }
  },
  "cells": [
    {
      "cell_type": "markdown",
      "metadata": {
        "id": "view-in-github",
        "colab_type": "text"
      },
      "source": [
        "<a href=\"https://colab.research.google.com/github/safiqul-islam/Stock-price-prediction-model/blob/main/dataminingprojectcose.ipynb\" target=\"_parent\"><img src=\"https://colab.research.google.com/assets/colab-badge.svg\" alt=\"Open In Colab\"/></a>"
      ]
    },
    {
      "cell_type": "code",
      "execution_count": null,
      "metadata": {
        "colab": {
          "base_uri": "https://localhost:8080/"
        },
        "id": "MIpsuQzb7EzB",
        "outputId": "b2d002f9-62cc-4e55-bd38-aba25b55521a"
      },
      "outputs": [
        {
          "output_type": "stream",
          "name": "stdout",
          "text": [
            "Drive already mounted at /content/drive; to attempt to forcibly remount, call drive.mount(\"/content/drive\", force_remount=True).\n"
          ]
        }
      ],
      "source": [
        "from google.colab import drive\n",
        "drive.mount('/content/drive')"
      ]
    },
    {
      "cell_type": "code",
      "source": [
        "path='drive/my drive/dataset'"
      ],
      "metadata": {
        "id": "3aGOJYIQB7cG"
      },
      "execution_count": null,
      "outputs": []
    },
    {
      "cell_type": "code",
      "source": [
        "import pandas as pd\n",
        "df = pd.read_csv('/content/drive/MyDrive/dataset/stockprice.csv')\n",
        "df"
      ],
      "metadata": {
        "colab": {
          "base_uri": "https://localhost:8080/",
          "height": 423
        },
        "id": "m1AFyZTlCLnE",
        "outputId": "c6c9f39f-8666-4606-9aa0-9132b8c2fb2f"
      },
      "execution_count": null,
      "outputs": [
        {
          "output_type": "execute_result",
          "data": {
            "text/html": [
              "\n",
              "  <div id=\"df-9c6d4b8a-c22d-4a96-93c4-f35636dc4dc3\">\n",
              "    <div class=\"colab-df-container\">\n",
              "      <div>\n",
              "<style scoped>\n",
              "    .dataframe tbody tr th:only-of-type {\n",
              "        vertical-align: middle;\n",
              "    }\n",
              "\n",
              "    .dataframe tbody tr th {\n",
              "        vertical-align: top;\n",
              "    }\n",
              "\n",
              "    .dataframe thead th {\n",
              "        text-align: right;\n",
              "    }\n",
              "</style>\n",
              "<table border=\"1\" class=\"dataframe\">\n",
              "  <thead>\n",
              "    <tr style=\"text-align: right;\">\n",
              "      <th></th>\n",
              "      <th>Unnamed: 0</th>\n",
              "      <th>symbol</th>\n",
              "      <th>date</th>\n",
              "      <th>close</th>\n",
              "      <th>high</th>\n",
              "      <th>low</th>\n",
              "      <th>open</th>\n",
              "      <th>volume</th>\n",
              "      <th>adjClose</th>\n",
              "      <th>adjHigh</th>\n",
              "      <th>adjLow</th>\n",
              "      <th>adjOpen</th>\n",
              "      <th>adjVolume</th>\n",
              "      <th>divCash</th>\n",
              "      <th>splitFactor</th>\n",
              "    </tr>\n",
              "  </thead>\n",
              "  <tbody>\n",
              "    <tr>\n",
              "      <th>0</th>\n",
              "      <td>0</td>\n",
              "      <td>AAPL</td>\n",
              "      <td>2015-05-27 00:00:00+00:00</td>\n",
              "      <td>132.045</td>\n",
              "      <td>132.260</td>\n",
              "      <td>130.0500</td>\n",
              "      <td>130.34</td>\n",
              "      <td>45833246</td>\n",
              "      <td>121.682558</td>\n",
              "      <td>121.880685</td>\n",
              "      <td>119.844118</td>\n",
              "      <td>120.111360</td>\n",
              "      <td>45833246</td>\n",
              "      <td>0.0</td>\n",
              "      <td>1.0</td>\n",
              "    </tr>\n",
              "    <tr>\n",
              "      <th>1</th>\n",
              "      <td>1</td>\n",
              "      <td>AAPL</td>\n",
              "      <td>2015-05-28 00:00:00+00:00</td>\n",
              "      <td>131.780</td>\n",
              "      <td>131.950</td>\n",
              "      <td>131.1000</td>\n",
              "      <td>131.86</td>\n",
              "      <td>30733309</td>\n",
              "      <td>121.438354</td>\n",
              "      <td>121.595013</td>\n",
              "      <td>120.811718</td>\n",
              "      <td>121.512076</td>\n",
              "      <td>30733309</td>\n",
              "      <td>0.0</td>\n",
              "      <td>1.0</td>\n",
              "    </tr>\n",
              "    <tr>\n",
              "      <th>2</th>\n",
              "      <td>2</td>\n",
              "      <td>AAPL</td>\n",
              "      <td>2015-05-29 00:00:00+00:00</td>\n",
              "      <td>130.280</td>\n",
              "      <td>131.450</td>\n",
              "      <td>129.9000</td>\n",
              "      <td>131.23</td>\n",
              "      <td>50884452</td>\n",
              "      <td>120.056069</td>\n",
              "      <td>121.134251</td>\n",
              "      <td>119.705890</td>\n",
              "      <td>120.931516</td>\n",
              "      <td>50884452</td>\n",
              "      <td>0.0</td>\n",
              "      <td>1.0</td>\n",
              "    </tr>\n",
              "    <tr>\n",
              "      <th>3</th>\n",
              "      <td>3</td>\n",
              "      <td>AAPL</td>\n",
              "      <td>2015-06-01 00:00:00+00:00</td>\n",
              "      <td>130.535</td>\n",
              "      <td>131.390</td>\n",
              "      <td>130.0500</td>\n",
              "      <td>131.20</td>\n",
              "      <td>32112797</td>\n",
              "      <td>120.291057</td>\n",
              "      <td>121.078960</td>\n",
              "      <td>119.844118</td>\n",
              "      <td>120.903870</td>\n",
              "      <td>32112797</td>\n",
              "      <td>0.0</td>\n",
              "      <td>1.0</td>\n",
              "    </tr>\n",
              "    <tr>\n",
              "      <th>4</th>\n",
              "      <td>4</td>\n",
              "      <td>AAPL</td>\n",
              "      <td>2015-06-02 00:00:00+00:00</td>\n",
              "      <td>129.960</td>\n",
              "      <td>130.655</td>\n",
              "      <td>129.3200</td>\n",
              "      <td>129.86</td>\n",
              "      <td>33667627</td>\n",
              "      <td>119.761181</td>\n",
              "      <td>120.401640</td>\n",
              "      <td>119.171406</td>\n",
              "      <td>119.669029</td>\n",
              "      <td>33667627</td>\n",
              "      <td>0.0</td>\n",
              "      <td>1.0</td>\n",
              "    </tr>\n",
              "    <tr>\n",
              "      <th>...</th>\n",
              "      <td>...</td>\n",
              "      <td>...</td>\n",
              "      <td>...</td>\n",
              "      <td>...</td>\n",
              "      <td>...</td>\n",
              "      <td>...</td>\n",
              "      <td>...</td>\n",
              "      <td>...</td>\n",
              "      <td>...</td>\n",
              "      <td>...</td>\n",
              "      <td>...</td>\n",
              "      <td>...</td>\n",
              "      <td>...</td>\n",
              "      <td>...</td>\n",
              "      <td>...</td>\n",
              "    </tr>\n",
              "    <tr>\n",
              "      <th>1253</th>\n",
              "      <td>1253</td>\n",
              "      <td>AAPL</td>\n",
              "      <td>2020-05-18 00:00:00+00:00</td>\n",
              "      <td>314.960</td>\n",
              "      <td>316.500</td>\n",
              "      <td>310.3241</td>\n",
              "      <td>313.17</td>\n",
              "      <td>33843125</td>\n",
              "      <td>314.960000</td>\n",
              "      <td>316.500000</td>\n",
              "      <td>310.324100</td>\n",
              "      <td>313.170000</td>\n",
              "      <td>33843125</td>\n",
              "      <td>0.0</td>\n",
              "      <td>1.0</td>\n",
              "    </tr>\n",
              "    <tr>\n",
              "      <th>1254</th>\n",
              "      <td>1254</td>\n",
              "      <td>AAPL</td>\n",
              "      <td>2020-05-19 00:00:00+00:00</td>\n",
              "      <td>313.140</td>\n",
              "      <td>318.520</td>\n",
              "      <td>313.0100</td>\n",
              "      <td>315.03</td>\n",
              "      <td>25432385</td>\n",
              "      <td>313.140000</td>\n",
              "      <td>318.520000</td>\n",
              "      <td>313.010000</td>\n",
              "      <td>315.030000</td>\n",
              "      <td>25432385</td>\n",
              "      <td>0.0</td>\n",
              "      <td>1.0</td>\n",
              "    </tr>\n",
              "    <tr>\n",
              "      <th>1255</th>\n",
              "      <td>1255</td>\n",
              "      <td>AAPL</td>\n",
              "      <td>2020-05-20 00:00:00+00:00</td>\n",
              "      <td>319.230</td>\n",
              "      <td>319.520</td>\n",
              "      <td>316.2000</td>\n",
              "      <td>316.68</td>\n",
              "      <td>27876215</td>\n",
              "      <td>319.230000</td>\n",
              "      <td>319.520000</td>\n",
              "      <td>316.200000</td>\n",
              "      <td>316.680000</td>\n",
              "      <td>27876215</td>\n",
              "      <td>0.0</td>\n",
              "      <td>1.0</td>\n",
              "    </tr>\n",
              "    <tr>\n",
              "      <th>1256</th>\n",
              "      <td>1256</td>\n",
              "      <td>AAPL</td>\n",
              "      <td>2020-05-21 00:00:00+00:00</td>\n",
              "      <td>316.850</td>\n",
              "      <td>320.890</td>\n",
              "      <td>315.8700</td>\n",
              "      <td>318.66</td>\n",
              "      <td>25672211</td>\n",
              "      <td>316.850000</td>\n",
              "      <td>320.890000</td>\n",
              "      <td>315.870000</td>\n",
              "      <td>318.660000</td>\n",
              "      <td>25672211</td>\n",
              "      <td>0.0</td>\n",
              "      <td>1.0</td>\n",
              "    </tr>\n",
              "    <tr>\n",
              "      <th>1257</th>\n",
              "      <td>1257</td>\n",
              "      <td>AAPL</td>\n",
              "      <td>2020-05-22 00:00:00+00:00</td>\n",
              "      <td>318.890</td>\n",
              "      <td>319.230</td>\n",
              "      <td>315.3500</td>\n",
              "      <td>315.77</td>\n",
              "      <td>20450754</td>\n",
              "      <td>318.890000</td>\n",
              "      <td>319.230000</td>\n",
              "      <td>315.350000</td>\n",
              "      <td>315.770000</td>\n",
              "      <td>20450754</td>\n",
              "      <td>0.0</td>\n",
              "      <td>1.0</td>\n",
              "    </tr>\n",
              "  </tbody>\n",
              "</table>\n",
              "<p>1258 rows × 15 columns</p>\n",
              "</div>\n",
              "      <button class=\"colab-df-convert\" onclick=\"convertToInteractive('df-9c6d4b8a-c22d-4a96-93c4-f35636dc4dc3')\"\n",
              "              title=\"Convert this dataframe to an interactive table.\"\n",
              "              style=\"display:none;\">\n",
              "        \n",
              "  <svg xmlns=\"http://www.w3.org/2000/svg\" height=\"24px\"viewBox=\"0 0 24 24\"\n",
              "       width=\"24px\">\n",
              "    <path d=\"M0 0h24v24H0V0z\" fill=\"none\"/>\n",
              "    <path d=\"M18.56 5.44l.94 2.06.94-2.06 2.06-.94-2.06-.94-.94-2.06-.94 2.06-2.06.94zm-11 1L8.5 8.5l.94-2.06 2.06-.94-2.06-.94L8.5 2.5l-.94 2.06-2.06.94zm10 10l.94 2.06.94-2.06 2.06-.94-2.06-.94-.94-2.06-.94 2.06-2.06.94z\"/><path d=\"M17.41 7.96l-1.37-1.37c-.4-.4-.92-.59-1.43-.59-.52 0-1.04.2-1.43.59L10.3 9.45l-7.72 7.72c-.78.78-.78 2.05 0 2.83L4 21.41c.39.39.9.59 1.41.59.51 0 1.02-.2 1.41-.59l7.78-7.78 2.81-2.81c.8-.78.8-2.07 0-2.86zM5.41 20L4 18.59l7.72-7.72 1.47 1.35L5.41 20z\"/>\n",
              "  </svg>\n",
              "      </button>\n",
              "      \n",
              "  <style>\n",
              "    .colab-df-container {\n",
              "      display:flex;\n",
              "      flex-wrap:wrap;\n",
              "      gap: 12px;\n",
              "    }\n",
              "\n",
              "    .colab-df-convert {\n",
              "      background-color: #E8F0FE;\n",
              "      border: none;\n",
              "      border-radius: 50%;\n",
              "      cursor: pointer;\n",
              "      display: none;\n",
              "      fill: #1967D2;\n",
              "      height: 32px;\n",
              "      padding: 0 0 0 0;\n",
              "      width: 32px;\n",
              "    }\n",
              "\n",
              "    .colab-df-convert:hover {\n",
              "      background-color: #E2EBFA;\n",
              "      box-shadow: 0px 1px 2px rgba(60, 64, 67, 0.3), 0px 1px 3px 1px rgba(60, 64, 67, 0.15);\n",
              "      fill: #174EA6;\n",
              "    }\n",
              "\n",
              "    [theme=dark] .colab-df-convert {\n",
              "      background-color: #3B4455;\n",
              "      fill: #D2E3FC;\n",
              "    }\n",
              "\n",
              "    [theme=dark] .colab-df-convert:hover {\n",
              "      background-color: #434B5C;\n",
              "      box-shadow: 0px 1px 3px 1px rgba(0, 0, 0, 0.15);\n",
              "      filter: drop-shadow(0px 1px 2px rgba(0, 0, 0, 0.3));\n",
              "      fill: #FFFFFF;\n",
              "    }\n",
              "  </style>\n",
              "\n",
              "      <script>\n",
              "        const buttonEl =\n",
              "          document.querySelector('#df-9c6d4b8a-c22d-4a96-93c4-f35636dc4dc3 button.colab-df-convert');\n",
              "        buttonEl.style.display =\n",
              "          google.colab.kernel.accessAllowed ? 'block' : 'none';\n",
              "\n",
              "        async function convertToInteractive(key) {\n",
              "          const element = document.querySelector('#df-9c6d4b8a-c22d-4a96-93c4-f35636dc4dc3');\n",
              "          const dataTable =\n",
              "            await google.colab.kernel.invokeFunction('convertToInteractive',\n",
              "                                                     [key], {});\n",
              "          if (!dataTable) return;\n",
              "\n",
              "          const docLinkHtml = 'Like what you see? Visit the ' +\n",
              "            '<a target=\"_blank\" href=https://colab.research.google.com/notebooks/data_table.ipynb>data table notebook</a>'\n",
              "            + ' to learn more about interactive tables.';\n",
              "          element.innerHTML = '';\n",
              "          dataTable['output_type'] = 'display_data';\n",
              "          await google.colab.output.renderOutput(dataTable, element);\n",
              "          const docLink = document.createElement('div');\n",
              "          docLink.innerHTML = docLinkHtml;\n",
              "          element.appendChild(docLink);\n",
              "        }\n",
              "      </script>\n",
              "    </div>\n",
              "  </div>\n",
              "  "
            ],
            "text/plain": [
              "      Unnamed: 0 symbol  ... divCash  splitFactor\n",
              "0              0   AAPL  ...     0.0          1.0\n",
              "1              1   AAPL  ...     0.0          1.0\n",
              "2              2   AAPL  ...     0.0          1.0\n",
              "3              3   AAPL  ...     0.0          1.0\n",
              "4              4   AAPL  ...     0.0          1.0\n",
              "...          ...    ...  ...     ...          ...\n",
              "1253        1253   AAPL  ...     0.0          1.0\n",
              "1254        1254   AAPL  ...     0.0          1.0\n",
              "1255        1255   AAPL  ...     0.0          1.0\n",
              "1256        1256   AAPL  ...     0.0          1.0\n",
              "1257        1257   AAPL  ...     0.0          1.0\n",
              "\n",
              "[1258 rows x 15 columns]"
            ]
          },
          "metadata": {},
          "execution_count": 14
        }
      ]
    },
    {
      "cell_type": "code",
      "source": [
        "df1=df.reset_index()['close']"
      ],
      "metadata": {
        "id": "X9suQZwSFbTf"
      },
      "execution_count": null,
      "outputs": []
    },
    {
      "cell_type": "code",
      "source": [
        "df1"
      ],
      "metadata": {
        "colab": {
          "base_uri": "https://localhost:8080/"
        },
        "id": "PYpii8kCFe4E",
        "outputId": "2bd53c6c-0649-4560-fe8a-b03c0b623ab3"
      },
      "execution_count": null,
      "outputs": [
        {
          "output_type": "execute_result",
          "data": {
            "text/plain": [
              "0       132.045\n",
              "1       131.780\n",
              "2       130.280\n",
              "3       130.535\n",
              "4       129.960\n",
              "         ...   \n",
              "1253    314.960\n",
              "1254    313.140\n",
              "1255    319.230\n",
              "1256    316.850\n",
              "1257    318.890\n",
              "Name: close, Length: 1258, dtype: float64"
            ]
          },
          "metadata": {},
          "execution_count": 16
        }
      ]
    },
    {
      "cell_type": "code",
      "source": [
        "import matplotlib.pyplot as plt\n",
        "plt.plot(df1)"
      ],
      "metadata": {
        "colab": {
          "base_uri": "https://localhost:8080/",
          "height": 283
        },
        "id": "xaGseilfFgcZ",
        "outputId": "bc1a336c-9f67-40bf-a834-77fd4bc53c94"
      },
      "execution_count": null,
      "outputs": [
        {
          "output_type": "execute_result",
          "data": {
            "text/plain": [
              "[<matplotlib.lines.Line2D at 0x7f0047cd01d0>]"
            ]
          },
          "metadata": {},
          "execution_count": 17
        },
        {
          "output_type": "display_data",
          "data": {
            "image/png": "[encoded data removed]",
            "text/plain": [
              "<Figure size 432x288 with 1 Axes>"
            ]
          },
          "metadata": {
            "needs_background": "light"
          }
        }
      ]
    },
    {
      "cell_type": "code",
      "source": [
        "### LSTM are sensitive to the scale of the data. so we apply MinMax scaler \n",
        "import numpy as np\n",
        "from sklearn.preprocessing import MinMaxScaler\n",
        "scaler=MinMaxScaler(feature_range=(0,1))\n",
        "df1=scaler.fit_transform(np.array(df1).reshape(-1,1))\n",
        "print(df1)"
      ],
      "metadata": {
        "colab": {
          "base_uri": "https://localhost:8080/"
        },
        "id": "PJX8FNP8F1k2",
        "outputId": "f72f5f17-d1a1-4bc4-abbe-d7fd628d10d0"
      },
      "execution_count": null,
      "outputs": [
        {
          "output_type": "stream",
          "name": "stdout",
          "text": [
            "[[0.17607447]\n",
            " [0.17495567]\n",
            " [0.16862282]\n",
            " ...\n",
            " [0.96635143]\n",
            " [0.9563033 ]\n",
            " [0.96491598]]\n"
          ]
        }
      ]
    },
    {
      "cell_type": "code",
      "source": [
        "##splitting dataset into train and test split\n",
        "training_size=int(len(df1)*0.65)\n",
        "test_size=len(df1)-training_size\n",
        "train_data,test_data=df1[0:training_size,:],df1[training_size:len(df1),:1]\n",
        "training_size,test_size"
      ],
      "metadata": {
        "colab": {
          "base_uri": "https://localhost:8080/"
        },
        "id": "qAcH3iESF4gj",
        "outputId": "3317b8b8-e478-4cd9-cb3e-535c82333cb7"
      },
      "execution_count": null,
      "outputs": [
        {
          "output_type": "execute_result",
          "data": {
            "text/plain": [
              "(817, 441)"
            ]
          },
          "metadata": {},
          "execution_count": 19
        }
      ]
    },
    {
      "cell_type": "code",
      "source": [
        "train_data"
      ],
      "metadata": {
        "colab": {
          "base_uri": "https://localhost:8080/"
        },
        "id": "IkVTuV0lF7sC",
        "outputId": "d8f072ff-1fc5-4389-8dc3-65796db09519"
      },
      "execution_count": null,
      "outputs": [
        {
          "output_type": "execute_result",
          "data": {
            "text/plain": [
              "array([[0.17607447],\n",
              "       [0.17495567],\n",
              "       [0.16862282],\n",
              "       [0.1696994 ],\n",
              "       [0.16727181],\n",
              "       [0.16794731],\n",
              "       [0.16473866],\n",
              "       [0.16174111],\n",
              "       [0.1581525 ],\n",
              "       [0.15654817],\n",
              "       [0.16271215],\n",
              "       [0.1614878 ],\n",
              "       [0.1554927 ],\n",
              "       [0.15443722],\n",
              "       [0.15730811],\n",
              "       [0.15604154],\n",
              "       [0.15849025],\n",
              "       [0.15308621],\n",
              "       [0.15735033],\n",
              "       [0.15490163],\n",
              "       [0.15946129],\n",
              "       [0.15688592],\n",
              "       [0.1537195 ],\n",
              "       [0.14434687],\n",
              "       [0.14812547],\n",
              "       [0.15308621],\n",
              "       [0.15241071],\n",
              "       [0.15055307],\n",
              "       [0.14924428],\n",
              "       [0.13607194],\n",
              "       [0.12551718],\n",
              "       [0.13906949],\n",
              "       [0.14911762],\n",
              "       [0.14890653],\n",
              "       [0.15401503],\n",
              "       [0.16115005],\n",
              "       [0.16583636],\n",
              "       [0.17618002],\n",
              "       [0.17060711],\n",
              "       [0.14725998],\n",
              "       [0.14700667],\n",
              "       [0.14422021],\n",
              "       [0.13691632],\n",
              "       [0.13949168],\n",
              "       [0.13784514],\n",
              "       [0.13522756],\n",
              "       [0.13071012],\n",
              "       [0.11863548],\n",
              "       [0.10259225],\n",
              "       [0.1058009 ],\n",
              "       [0.10466098],\n",
              "       [0.10630752],\n",
              "       [0.12403952],\n",
              "       [0.09773706],\n",
              "       [0.10512539],\n",
              "       [0.10474542],\n",
              "       [0.10816516],\n",
              "       [0.11323144],\n",
              "       [0.11044499],\n",
              "       [0.10415435],\n",
              "       [0.09419066],\n",
              "       [0.06510175],\n",
              "       [0.05395592],\n",
              "       [0.0565735 ],\n",
              "       [0.08169383],\n",
              "       [0.09533058],\n",
              "       [0.09689268],\n",
              "       [0.09465507],\n",
              "       [0.07337668],\n",
              "       [0.09288187],\n",
              "       [0.08456472],\n",
              "       [0.07992063],\n",
              "       [0.09275521],\n",
              "       [0.0836359 ],\n",
              "       [0.09385291],\n",
              "       [0.10077683],\n",
              "       [0.10542092],\n",
              "       [0.10951617],\n",
              "       [0.11006502],\n",
              "       [0.09955248],\n",
              "       [0.09756818],\n",
              "       [0.10499873],\n",
              "       [0.09735709],\n",
              "       [0.10124124],\n",
              "       [0.10411213],\n",
              "       [0.10288778],\n",
              "       [0.09330406],\n",
              "       [0.07903403],\n",
              "       [0.08426919],\n",
              "       [0.08122942],\n",
              "       [0.08460694],\n",
              "       [0.0862957 ],\n",
              "       [0.08853331],\n",
              "       [0.0862957 ],\n",
              "       [0.08089167],\n",
              "       [0.09195305],\n",
              "       [0.08975766],\n",
              "       [0.09055982],\n",
              "       [0.08388922],\n",
              "       [0.09085536],\n",
              "       [0.0873934 ],\n",
              "       [0.09030651],\n",
              "       [0.09891919],\n",
              "       [0.09887697],\n",
              "       [0.10622309],\n",
              "       [0.1213375 ],\n",
              "       [0.10529427],\n",
              "       [0.10221228],\n",
              "       [0.12213966],\n",
              "       [0.12745926],\n",
              "       [0.1231107 ],\n",
              "       [0.1302035 ],\n",
              "       [0.13607194],\n",
              "       [0.13366546],\n",
              "       [0.1291058 ],\n",
              "       [0.12969687],\n",
              "       [0.12762813],\n",
              "       [0.1115849 ],\n",
              "       [0.10879845],\n",
              "       [0.1071519 ],\n",
              "       [0.09288187],\n",
              "       [0.10062906],\n",
              "       [0.09858144],\n",
              "       [0.11378029],\n",
              "       [0.12007093],\n",
              "       [0.12226632],\n",
              "       [0.11572237],\n",
              "       [0.12049312],\n",
              "       [0.1169045 ],\n",
              "       [0.11597568],\n",
              "       [0.11804441],\n",
              "       [0.11399139],\n",
              "       [0.10951617],\n",
              "       [0.10495651],\n",
              "       [0.1211264 ],\n",
              "       [0.11795998],\n",
              "       [0.11774888],\n",
              "       [0.10672971],\n",
              "       [0.10905176],\n",
              "       [0.09642827],\n",
              "       [0.09347294],\n",
              "       [0.08507135],\n",
              "       [0.08865997],\n",
              "       [0.07869628],\n",
              "       [0.06624166],\n",
              "       [0.07173014],\n",
              "       [0.07130795],\n",
              "       [0.07713417],\n",
              "       [0.07468547],\n",
              "       [0.06957697],\n",
              "       [0.07768302],\n",
              "       [0.07168792],\n",
              "       [0.0629908 ],\n",
              "       [0.06337077],\n",
              "       [0.05222494],\n",
              "       [0.04373892],\n",
              "       [0.02579583],\n",
              "       [0.027949  ],\n",
              "       [0.03457739],\n",
              "       [0.04061471],\n",
              "       [0.02976442],\n",
              "       [0.03875707],\n",
              "       [0.02866672],\n",
              "       [0.02668243],\n",
              "       [0.02723128],\n",
              "       [0.02516254],\n",
              "       [0.04677869],\n",
              "       [0.03841932],\n",
              "       [0.04074137],\n",
              "       [0.01300346],\n",
              "       [0.01583214],\n",
              "       [0.02955332],\n",
              "       [0.02571139],\n",
              "       [0.01747868],\n",
              "       [0.02537364],\n",
              "       [0.02642911],\n",
              "       [0.0155366 ],\n",
              "       [0.01971629],\n",
              "       [0.01963185],\n",
              "       [0.01659208],\n",
              "       [0.01418559],\n",
              "       [0.01540995],\n",
              "       [0.02659799],\n",
              "       [0.03284641],\n",
              "       [0.02499367],\n",
              "       [0.02406485],\n",
              "       [0.02761125],\n",
              "       [0.01836528],\n",
              "       [0.02431816],\n",
              "       [0.02710462],\n",
              "       [0.0277379 ],\n",
              "       [0.02680909],\n",
              "       [0.04302119],\n",
              "       [0.04395001],\n",
              "       [0.04711644],\n",
              "       [0.05349151],\n",
              "       [0.04867854],\n",
              "       [0.04513215],\n",
              "       [0.04551212],\n",
              "       [0.04572321],\n",
              "       [0.05032509],\n",
              "       [0.05142278],\n",
              "       [0.0601199 ],\n",
              "       [0.06598835],\n",
              "       [0.06527062],\n",
              "       [0.06577725],\n",
              "       [0.06573503],\n",
              "       [0.06915477],\n",
              "       [0.06666385],\n",
              "       [0.06472178],\n",
              "       [0.06269526],\n",
              "       [0.0732078 ],\n",
              "       [0.08114498],\n",
              "       [0.0787385 ],\n",
              "       [0.0829604 ],\n",
              "       [0.08773115],\n",
              "       [0.08220046],\n",
              "       [0.08705564],\n",
              "       [0.07683864],\n",
              "       [0.07734527],\n",
              "       [0.07886515],\n",
              "       [0.08486026],\n",
              "       [0.0916153 ],\n",
              "       [0.09186861],\n",
              "       [0.08236933],\n",
              "       [0.07236342],\n",
              "       [0.06995694],\n",
              "       [0.07088576],\n",
              "       [0.06598835],\n",
              "       [0.064764  ],\n",
              "       [0.06223085],\n",
              "       [0.05914886],\n",
              "       [0.03157984],\n",
              "       [0.01895635],\n",
              "       [0.01435447],\n",
              "       [0.01393228],\n",
              "       [0.02043401],\n",
              "       [0.01625433],\n",
              "       [0.01224352],\n",
              "       [0.01004813],\n",
              "       [0.01034366],\n",
              "       [0.01300346],\n",
              "       [0.00916153],\n",
              "       [0.        ],\n",
              "       [0.00075994],\n",
              "       [0.01494554],\n",
              "       [0.013299  ],\n",
              "       [0.01781643],\n",
              "       [0.01629655],\n",
              "       [0.02060289],\n",
              "       [0.02571139],\n",
              "       [0.03191759],\n",
              "       [0.03917926],\n",
              "       [0.04251457],\n",
              "       [0.04226125],\n",
              "       [0.04019252],\n",
              "       [0.03428185],\n",
              "       [0.03115765],\n",
              "       [0.03200203],\n",
              "       [0.03499958],\n",
              "       [0.03668834],\n",
              "       [0.03630837],\n",
              "       [0.03930592],\n",
              "       [0.03584396],\n",
              "       [0.02955332],\n",
              "       [0.03005995],\n",
              "       [0.02870894],\n",
              "       [0.03043992],\n",
              "       [0.0210673 ],\n",
              "       [0.02009626],\n",
              "       [0.023516  ],\n",
              "       [0.02199612],\n",
              "       [0.02431816],\n",
              "       [0.01291902],\n",
              "       [0.00717724],\n",
              "       [0.01372119],\n",
              "       [0.01714093],\n",
              "       [0.02220721],\n",
              "       [0.02343156],\n",
              "       [0.01963185],\n",
              "       [0.02191168],\n",
              "       [0.02364266],\n",
              "       [0.02676687],\n",
              "       [0.02803344],\n",
              "       [0.02989107],\n",
              "       [0.02756903],\n",
              "       [0.03567508],\n",
              "       [0.03563286],\n",
              "       [0.04006586],\n",
              "       [0.04023474],\n",
              "       [0.04061471],\n",
              "       [0.0383771 ],\n",
              "       [0.03512623],\n",
              "       [0.02955332],\n",
              "       [0.02672465],\n",
              "       [0.0532382 ],\n",
              "       [0.05910665],\n",
              "       [0.0585578 ],\n",
              "       [0.0663261 ],\n",
              "       [0.05969771],\n",
              "       [0.0652284 ],\n",
              "       [0.06556616],\n",
              "       [0.07236342],\n",
              "       [0.07612092],\n",
              "       [0.07797855],\n",
              "       [0.07455881],\n",
              "       [0.07426328],\n",
              "       [0.07531875],\n",
              "       [0.08080723],\n",
              "       [0.08038504],\n",
              "       [0.07970953],\n",
              "       [0.07911847],\n",
              "       [0.0803006 ],\n",
              "       [0.07671198],\n",
              "       [0.07814743],\n",
              "       [0.07468547],\n",
              "       [0.07274339],\n",
              "       [0.07008359],\n",
              "       [0.06957697],\n",
              "       [0.066115  ],\n",
              "       [0.06653719],\n",
              "       [0.06919699],\n",
              "       [0.0734189 ],\n",
              "       [0.07329224],\n",
              "       [0.0760787 ],\n",
              "       [0.06408849],\n",
              "       [0.05399814],\n",
              "       [0.06375074],\n",
              "       [0.07434772],\n",
              "       [0.09047539],\n",
              "       [0.10651862],\n",
              "       [0.10377438],\n",
              "       [0.09811703],\n",
              "       [0.09807481],\n",
              "       [0.09799037],\n",
              "       [0.10250781],\n",
              "       [0.09444398],\n",
              "       [0.0951617 ],\n",
              "       [0.0960483 ],\n",
              "       [0.09967914],\n",
              "       [0.09220637],\n",
              "       [0.09587942],\n",
              "       [0.09364181],\n",
              "       [0.09566833],\n",
              "       [0.09587942],\n",
              "       [0.09942582],\n",
              "       [0.10014354],\n",
              "       [0.10854513],\n",
              "       [0.10960061],\n",
              "       [0.11399139],\n",
              "       [0.1124715 ],\n",
              "       [0.11521574],\n",
              "       [0.11487799],\n",
              "       [0.11454023],\n",
              "       [0.11306257],\n",
              "       [0.11280925],\n",
              "       [0.11086718],\n",
              "       [0.11530018],\n",
              "       [0.11783332],\n",
              "       [0.10660306],\n",
              "       [0.10191674],\n",
              "       [0.0987081 ],\n",
              "       [0.09794816],\n",
              "       [0.08929325],\n",
              "       [0.08971544],\n",
              "       [0.08228489],\n",
              "       [0.07810521],\n",
              "       [0.0847336 ],\n",
              "       [0.08747784],\n",
              "       [0.08671789],\n",
              "       [0.07367221],\n",
              "       [0.07637423],\n",
              "       [0.06489065],\n",
              "       [0.07080132],\n",
              "       [0.0829604 ],\n",
              "       [0.08279152],\n",
              "       [0.08325593],\n",
              "       [0.09030651],\n",
              "       [0.09060204],\n",
              "       [0.08819556],\n",
              "       [0.09055982],\n",
              "       [0.08963101],\n",
              "       [0.0891666 ],\n",
              "       [0.08519801],\n",
              "       [0.08084945],\n",
              "       [0.08258043],\n",
              "       [0.07924512],\n",
              "       [0.08279152],\n",
              "       [0.08735118],\n",
              "       [0.09195305],\n",
              "       [0.09967914],\n",
              "       [0.0969349 ],\n",
              "       [0.1049143 ],\n",
              "       [0.1049143 ],\n",
              "       [0.10757409],\n",
              "       [0.10820738],\n",
              "       [0.11103606],\n",
              "       [0.11234485],\n",
              "       [0.11280925],\n",
              "       [0.10955839],\n",
              "       [0.11052943],\n",
              "       [0.11365364],\n",
              "       [0.11154268],\n",
              "       [0.11141603],\n",
              "       [0.10757409],\n",
              "       [0.10896732],\n",
              "       [0.10841848],\n",
              "       [0.1109094 ],\n",
              "       [0.11639787],\n",
              "       [0.12095753],\n",
              "       [0.12146416],\n",
              "       [0.12416617],\n",
              "       [0.12205522],\n",
              "       [0.12116862],\n",
              "       [0.12522165],\n",
              "       [0.12517943],\n",
              "       [0.12429283],\n",
              "       [0.12522165],\n",
              "       [0.1255594 ],\n",
              "       [0.12509499],\n",
              "       [0.13315883],\n",
              "       [0.13341214],\n",
              "       [0.13345436],\n",
              "       [0.13210335],\n",
              "       [0.13092122],\n",
              "       [0.1621633 ],\n",
              "       [0.16123448],\n",
              "       [0.16355653],\n",
              "       [0.16866503],\n",
              "       [0.17390019],\n",
              "       [0.17605336],\n",
              "       [0.17765769],\n",
              "       [0.17639112],\n",
              "       [0.18133074],\n",
              "       [0.18863464],\n",
              "       [0.19070337],\n",
              "       [0.19000676],\n",
              "       [0.19158997],\n",
              "       [0.19572743],\n",
              "       [0.19745841],\n",
              "       [0.19500971],\n",
              "       [0.19555856],\n",
              "       [0.19669847],\n",
              "       [0.19695179],\n",
              "       [0.20877311],\n",
              "       [0.20526894],\n",
              "       [0.2087309 ],\n",
              "       [0.20687326],\n",
              "       [0.2076332 ],\n",
              "       [0.20543781],\n",
              "       [0.2040868 ],\n",
              "       [0.20602888],\n",
              "       [0.20628219],\n",
              "       [0.20539559],\n",
              "       [0.21160179],\n",
              "       [0.21257283],\n",
              "       [0.2096175 ],\n",
              "       [0.21582369],\n",
              "       [0.20898421],\n",
              "       [0.21565482],\n",
              "       [0.21354387],\n",
              "       [0.21236173],\n",
              "       [0.21337499],\n",
              "       [0.22570295],\n",
              "       [0.22705396],\n",
              "       [0.22625179],\n",
              "       [0.22511188],\n",
              "       [0.22528076],\n",
              "       [0.22979819],\n",
              "       [0.22663177],\n",
              "       [0.22511188],\n",
              "       [0.22376087],\n",
              "       [0.22304315],\n",
              "       [0.21654142],\n",
              "       [0.21725914],\n",
              "       [0.21409271],\n",
              "       [0.2173858 ],\n",
              "       [0.214726  ],\n",
              "       [0.21253061],\n",
              "       [0.21996116],\n",
              "       [0.21924343],\n",
              "       [0.22502744],\n",
              "       [0.22878494],\n",
              "       [0.22519632],\n",
              "       [0.22566073],\n",
              "       [0.22506966],\n",
              "       [0.23743984],\n",
              "       [0.24136621],\n",
              "       [0.23946635],\n",
              "       [0.23722874],\n",
              "       [0.24748797],\n",
              "       [0.26458668],\n",
              "       [0.26872414],\n",
              "       [0.26564215],\n",
              "       [0.26855526],\n",
              "       [0.27763236],\n",
              "       [0.2759436 ],\n",
              "       [0.27497256],\n",
              "       [0.25293422],\n",
              "       [0.26260238],\n",
              "       [0.26479777],\n",
              "       [0.26872414],\n",
              "       [0.26792198],\n",
              "       [0.2659799 ],\n",
              "       [0.26821751],\n",
              "       [0.26711982],\n",
              "       [0.26737313],\n",
              "       [0.2635312 ],\n",
              "       [0.2653044 ],\n",
              "       [0.27488812],\n",
              "       [0.26847083],\n",
              "       [0.27066622],\n",
              "       [0.27455037],\n",
              "       [0.27294604],\n",
              "       [0.24757241],\n",
              "       [0.23254243],\n",
              "       [0.23748206],\n",
              "       [0.23144474],\n",
              "       [0.22777168],\n",
              "       [0.21924343],\n",
              "       [0.23642658],\n",
              "       [0.23081145],\n",
              "       [0.23444229],\n",
              "       [0.23342903],\n",
              "       [0.23617327],\n",
              "       [0.23423119],\n",
              "       [0.22540741],\n",
              "       [0.23427341],\n",
              "       [0.22519632],\n",
              "       [0.22663177],\n",
              "       [0.22443638],\n",
              "       [0.2269273 ],\n",
              "       [0.22118551],\n",
              "       [0.22730727],\n",
              "       [0.23102254],\n",
              "       [0.23300684],\n",
              "       [0.23389344],\n",
              "       [0.2424639 ],\n",
              "       [0.24782572],\n",
              "       [0.25002111],\n",
              "       [0.2522165 ],\n",
              "       [0.25618509],\n",
              "       [0.25331419],\n",
              "       [0.25301866],\n",
              "       [0.26070252],\n",
              "       [0.26344676],\n",
              "       [0.26648653],\n",
              "       [0.25424301],\n",
              "       [0.2497678 ],\n",
              "       [0.24651693],\n",
              "       [0.25208984],\n",
              "       [0.28202314],\n",
              "       [0.27539475],\n",
              "       [0.27885671],\n",
              "       [0.28907371],\n",
              "       [0.29443553],\n",
              "       [0.298573  ],\n",
              "       [0.27433927],\n",
              "       [0.28345858],\n",
              "       [0.29346449],\n",
              "       [0.30085282],\n",
              "       [0.29810859],\n",
              "       [0.28506291],\n",
              "       [0.28354302],\n",
              "       [0.28231867],\n",
              "       [0.29316896],\n",
              "       [0.29401334],\n",
              "       [0.29101579],\n",
              "       [0.29350671],\n",
              "       [0.30030398],\n",
              "       [0.30638352],\n",
              "       [0.30824116],\n",
              "       [0.31098539],\n",
              "       [0.31119649],\n",
              "       [0.30287934],\n",
              "       [0.30216161],\n",
              "       [0.29941738],\n",
              "       [0.28831377],\n",
              "       [0.30043063],\n",
              "       [0.29772862],\n",
              "       [0.29262011],\n",
              "       [0.28683611],\n",
              "       [0.29359115],\n",
              "       [0.28848265],\n",
              "       [0.28873596],\n",
              "       [0.2775057 ],\n",
              "       [0.266191  ],\n",
              "       [0.25985814],\n",
              "       [0.25420079],\n",
              "       [0.26513552],\n",
              "       [0.2697374 ],\n",
              "       [0.26572659],\n",
              "       [0.26927299],\n",
              "       [0.2679642 ],\n",
              "       [0.27079287],\n",
              "       [0.26657097],\n",
              "       [0.27463481],\n",
              "       [0.27425483],\n",
              "       [0.27653466],\n",
              "       [0.27678798],\n",
              "       [0.27953221],\n",
              "       [0.27721017],\n",
              "       [0.28138985],\n",
              "       [0.29359115],\n",
              "       [0.29608207],\n",
              "       [0.29308452],\n",
              "       [0.27712573],\n",
              "       [0.27826564],\n",
              "       [0.27792789],\n",
              "       [0.28185426],\n",
              "       [0.27894115],\n",
              "       [0.28316305],\n",
              "       [0.30697458],\n",
              "       [0.32246897],\n",
              "       [0.33226378],\n",
              "       [0.32318669],\n",
              "       [0.32833741],\n",
              "       [0.34687157],\n",
              "       [0.3542599 ],\n",
              "       [0.35662417],\n",
              "       [0.36266149],\n",
              "       [0.3611416 ],\n",
              "       [0.3560331 ],\n",
              "       [0.35307777],\n",
              "       [0.34197416],\n",
              "       [0.33243266],\n",
              "       [0.34096091],\n",
              "       [0.3369501 ],\n",
              "       [0.33623237],\n",
              "       [0.34957359],\n",
              "       [0.35725745],\n",
              "       [0.35729967],\n",
              "       [0.3535844 ],\n",
              "       [0.34927805],\n",
              "       [0.33412142],\n",
              "       [0.34412733],\n",
              "       [0.34074981],\n",
              "       [0.33547243],\n",
              "       [0.33479693],\n",
              "       [0.33213713],\n",
              "       [0.33344592],\n",
              "       [0.33365701],\n",
              "       [0.34758929],\n",
              "       [0.34349405],\n",
              "       [0.34590053],\n",
              "       [0.34568944],\n",
              "       [0.35307777],\n",
              "       [0.36342143],\n",
              "       [0.35548425],\n",
              "       [0.35468209],\n",
              "       [0.35746855],\n",
              "       [0.35746855],\n",
              "       [0.3387233 ],\n",
              "       [0.33884995],\n",
              "       [0.34087647],\n",
              "       [0.33306595],\n",
              "       [0.34585831],\n",
              "       [0.34573166],\n",
              "       [0.34910918],\n",
              "       [0.35742633],\n",
              "       [0.35468209],\n",
              "       [0.35459765],\n",
              "       [0.35442878],\n",
              "       [0.35860846],\n",
              "       [0.36625011],\n",
              "       [0.36245039],\n",
              "       [0.37473613],\n",
              "       [0.37541164],\n",
              "       [0.37203411],\n",
              "       [0.36587013],\n",
              "       [0.36603901],\n",
              "       [0.35413324],\n",
              "       [0.34100312],\n",
              "       [0.34269189],\n",
              "       [0.32770413],\n",
              "       [0.32352444],\n",
              "       [0.32546652],\n",
              "       [0.32694419],\n",
              "       [0.29620873],\n",
              "       [0.2792789 ],\n",
              "       [0.30689015],\n",
              "       [0.2921557 ],\n",
              "       [0.27362155],\n",
              "       [0.27894115],\n",
              "       [0.30553914],\n",
              "       [0.31242084],\n",
              "       [0.32521321],\n",
              "       [0.3489403 ],\n",
              "       [0.34657604],\n",
              "       [0.34412733],\n",
              "       [0.34083425],\n",
              "       [0.34687157],\n",
              "       [0.35953728],\n",
              "       [0.37418728],\n",
              "       [0.37173858],\n",
              "       [0.37059867],\n",
              "       [0.35742633],\n",
              "       [0.36253483],\n",
              "       [0.36511019],\n",
              "       [0.36447691],\n",
              "       [0.35755298],\n",
              "       [0.36561682],\n",
              "       [0.37845141],\n",
              "       [0.38579752],\n",
              "       [0.37840919],\n",
              "       [0.37194967],\n",
              "       [0.37283627],\n",
              "       [0.37017648],\n",
              "       [0.3586929 ],\n",
              "       [0.35843958],\n",
              "       [0.34167863],\n",
              "       [0.33146162],\n",
              "       [0.31495398],\n",
              "       [0.34801148],\n",
              "       [0.32930845],\n",
              "       [0.32145571],\n",
              "       [0.32694419],\n",
              "       [0.32230009],\n",
              "       [0.32951955],\n",
              "       [0.34311408],\n",
              "       [0.34813814],\n",
              "       [0.32947733],\n",
              "       [0.33652791],\n",
              "       [0.350038  ],\n",
              "       [0.34661826],\n",
              "       [0.35379549],\n",
              "       [0.35628641],\n",
              "       [0.36088829],\n",
              "       [0.37110529],\n",
              "       [0.36941653],\n",
              "       [0.34813814],\n",
              "       [0.31824707],\n",
              "       [0.31622055],\n",
              "       [0.30651017],\n",
              "       [0.30950773],\n",
              "       [0.31191421],\n",
              "       [0.30389259],\n",
              "       [0.31630499],\n",
              "       [0.3325171 ],\n",
              "       [0.36405472],\n",
              "       [0.36540572],\n",
              "       [0.39470573],\n",
              "       [0.40032086],\n",
              "       [0.40407836],\n",
              "       [0.40960905],\n",
              "       [0.42092375],\n",
              "       [0.41480199],\n",
              "       [0.41294436],\n",
              "       [0.4057249 ],\n",
              "       [0.41307101],\n",
              "       [0.40804695],\n",
              "       [0.40517605],\n",
              "       [0.41074897],\n",
              "       [0.40876467],\n",
              "       [0.41383095],\n",
              "       [0.41294436],\n",
              "       [0.41475977],\n",
              "       [0.41188888],\n",
              "       [0.41020012],\n",
              "       [0.40754032],\n",
              "       [0.42176813],\n",
              "       [0.42848096],\n",
              "       [0.43472938],\n",
              "       [0.43755805],\n",
              "       [0.43536266],\n",
              "       [0.42793211],\n",
              "       [0.42594782],\n",
              "       [0.43038082],\n",
              "       [0.42371021],\n",
              "       [0.4241324 ],\n",
              "       [0.41585747],\n",
              "       [0.41543528],\n",
              "       [0.40255847],\n",
              "       [0.40597821],\n",
              "       [0.40158744],\n",
              "       [0.39930761],\n",
              "       [0.38769737],\n",
              "       [0.39723888],\n",
              "       [0.39609896],\n",
              "       [0.40175631],\n",
              "       [0.40010977],\n",
              "       [0.40884911],\n",
              "       [0.3950857 ],\n",
              "       [0.40133412],\n",
              "       [0.41218441],\n",
              "       [0.42320358],\n",
              "       [0.42223254],\n",
              "       [0.41180444],\n",
              "       [0.42510344],\n",
              "       [0.42637001],\n",
              "       [0.42459681],\n",
              "       [0.42687664],\n",
              "       [0.42244364],\n",
              "       [0.42869205],\n",
              "       [0.42683442],\n",
              "       [0.42755214],\n",
              "       [0.43342059],\n",
              "       [0.44110445],\n",
              "       [0.43852909],\n",
              "       [0.42489234],\n",
              "       [0.42037491],\n",
              "       [0.42197923],\n",
              "       [0.46930676],\n",
              "       [0.49417377],\n",
              "       [0.49670692],\n",
              "       [0.50126657],\n",
              "       [0.49299164],\n",
              "       [0.49358271],\n",
              "       [0.50046441],\n",
              "       [0.49476484],\n",
              "       [0.50042219],\n",
              "       [0.50413747],\n",
              "       [0.5062062 ],\n",
              "       [0.51920966],\n",
              "       [0.53719497],\n",
              "       [0.52824453],\n",
              "       [0.52647133]])"
            ]
          },
          "metadata": {},
          "execution_count": 20
        }
      ]
    },
    {
      "cell_type": "code",
      "source": [
        "import numpy\n",
        "# convert an array of values into a dataset matrix\n",
        "def create_dataset(dataset, time_step=1):\n",
        "\tdataX, dataY = [], []\n",
        "\tfor i in range(len(dataset)-time_step-1):\n",
        "\t\ta = dataset[i:(i+time_step), 0]   ###i=0, 0,1,2,3-----99   100 \n",
        "\t\tdataX.append(a)\n",
        "\t\tdataY.append(dataset[i + time_step, 0])\n",
        "\treturn numpy.array(dataX), numpy.array(dataY)"
      ],
      "metadata": {
        "id": "yQ7r8qshF9_U"
      },
      "execution_count": null,
      "outputs": []
    },
    {
      "cell_type": "code",
      "source": [
        "# reshape into X=t,t+1,t+2,t+3 and Y=t+4\n",
        "time_step = 100\n",
        "X_train, y_train = create_dataset(train_data, time_step)\n",
        "X_test, ytest = create_dataset(test_data, time_step)"
      ],
      "metadata": {
        "id": "CAc1h42xGDMB"
      },
      "execution_count": null,
      "outputs": []
    },
    {
      "cell_type": "code",
      "source": [
        "print(X_train.shape), print(y_train.shape)"
      ],
      "metadata": {
        "colab": {
          "base_uri": "https://localhost:8080/"
        },
        "id": "t5f1MQbrGFxg",
        "outputId": "391bab75-bad9-431f-da21-4d1483885a65"
      },
      "execution_count": null,
      "outputs": [
        {
          "output_type": "stream",
          "name": "stdout",
          "text": [
            "(716, 100)\n",
            "(716,)\n"
          ]
        },
        {
          "output_type": "execute_result",
          "data": {
            "text/plain": [
              "(None, None)"
            ]
          },
          "metadata": {},
          "execution_count": 23
        }
      ]
    },
    {
      "cell_type": "code",
      "source": [
        "print(X_test.shape), print(ytest.shape)"
      ],
      "metadata": {
        "colab": {
          "base_uri": "https://localhost:8080/"
        },
        "id": "7Mk-sIewGH9B",
        "outputId": "ab6379ae-563d-4560-9e6e-1b4ae8dda110"
      },
      "execution_count": null,
      "outputs": [
        {
          "output_type": "stream",
          "name": "stdout",
          "text": [
            "(340, 100)\n",
            "(340,)\n"
          ]
        },
        {
          "output_type": "execute_result",
          "data": {
            "text/plain": [
              "(None, None)"
            ]
          },
          "metadata": {},
          "execution_count": 24
        }
      ]
    },
    {
      "cell_type": "code",
      "source": [
        "# reshape input to be [samples, time steps, features] which is required for LSTM\n",
        "X_train =X_train.reshape(X_train.shape[0],X_train.shape[1] , 1)\n",
        "X_test = X_test.reshape(X_test.shape[0],X_test.shape[1] , 1)"
      ],
      "metadata": {
        "id": "tDGStSjLGKTx"
      },
      "execution_count": null,
      "outputs": []
    },
    {
      "cell_type": "code",
      "source": [
        "# Create the Stacked LSTM model\n",
        "from tensorflow.keras.models import Sequential\n",
        "from tensorflow.keras.layers import Dense\n",
        "from tensorflow.keras.layers import LSTM"
      ],
      "metadata": {
        "id": "qv_LhZadGMyv"
      },
      "execution_count": null,
      "outputs": []
    },
    {
      "cell_type": "code",
      "source": [
        "model=Sequential()\n",
        "model.add(LSTM(50,return_sequences=True,input_shape=(100,1)))\n",
        "model.add(LSTM(50,return_sequences=True))\n",
        "model.add(LSTM(50))\n",
        "model.add(Dense(1))\n",
        "model.compile(loss='mean_squared_error',optimizer='adam')"
      ],
      "metadata": {
        "id": "mvbCkNR2GPEu"
      },
      "execution_count": null,
      "outputs": []
    },
    {
      "cell_type": "code",
      "source": [
        "model.summary()"
      ],
      "metadata": {
        "colab": {
          "base_uri": "https://localhost:8080/"
        },
        "id": "5Xf2HZjOGX1M",
        "outputId": "b33f7354-9f7b-4de5-9299-320d2eb9375d"
      },
      "execution_count": null,
      "outputs": [
        {
          "output_type": "stream",
          "name": "stdout",
          "text": [
            "Model: \"sequential\"\n",
            "_________________________________________________________________\n",
            " Layer (type)                Output Shape              Param #   \n",
            "=================================================================\n",
            " lstm (LSTM)                 (None, 100, 50)           10400     \n",
            "                                                                 \n",
            " lstm_1 (LSTM)               (None, 100, 50)           20200     \n",
            "                                                                 \n",
            " lstm_2 (LSTM)               (None, 50)                20200     \n",
            "                                                                 \n",
            " dense (Dense)               (None, 1)                 51        \n",
            "                                                                 \n",
            "=================================================================\n",
            "Total params: 50,851\n",
            "Trainable params: 50,851\n",
            "Non-trainable params: 0\n",
            "_________________________________________________________________\n"
          ]
        }
      ]
    },
    {
      "cell_type": "code",
      "source": [
        "model.fit(X_train,y_train,validation_data=(X_test,ytest),epochs=30,batch_size=64,verbose=1)"
      ],
      "metadata": {
        "colab": {
          "base_uri": "https://localhost:8080/"
        },
        "id": "JOgrcIpmGfB6",
        "outputId": "e746bafa-d65e-4b12-a047-e8ea1a18cb6a"
      },
      "execution_count": null,
      "outputs": [
        {
          "output_type": "stream",
          "name": "stdout",
          "text": [
            "Epoch 1/30\n",
            "12/12 [==============================] - 10s 334ms/step - loss: 0.0233 - val_loss: 0.0473\n",
            "Epoch 2/30\n",
            "12/12 [==============================] - 3s 210ms/step - loss: 0.0043 - val_loss: 0.0055\n",
            "Epoch 3/30\n",
            "12/12 [==============================] - 2s 209ms/step - loss: 0.0016 - val_loss: 0.0043\n",
            "Epoch 4/30\n",
            "12/12 [==============================] - 3s 211ms/step - loss: 7.5820e-04 - val_loss: 0.0046\n",
            "Epoch 5/30\n",
            "12/12 [==============================] - 3s 212ms/step - loss: 6.6926e-04 - val_loss: 0.0050\n",
            "Epoch 6/30\n",
            "12/12 [==============================] - 3s 213ms/step - loss: 6.6059e-04 - val_loss: 0.0041\n",
            "Epoch 7/30\n",
            "12/12 [==============================] - 2s 210ms/step - loss: 6.3400e-04 - val_loss: 0.0039\n",
            "Epoch 8/30\n",
            "12/12 [==============================] - 3s 212ms/step - loss: 6.2509e-04 - val_loss: 0.0040\n",
            "Epoch 9/30\n",
            "12/12 [==============================] - 3s 213ms/step - loss: 6.0455e-04 - val_loss: 0.0038\n",
            "Epoch 10/30\n",
            "12/12 [==============================] - 2s 210ms/step - loss: 6.1254e-04 - val_loss: 0.0037\n",
            "Epoch 11/30\n",
            "12/12 [==============================] - 2s 209ms/step - loss: 5.9406e-04 - val_loss: 0.0036\n",
            "Epoch 12/30\n",
            "12/12 [==============================] - 3s 210ms/step - loss: 5.9502e-04 - val_loss: 0.0036\n",
            "Epoch 13/30\n",
            "12/12 [==============================] - 3s 210ms/step - loss: 6.2759e-04 - val_loss: 0.0035\n",
            "Epoch 14/30\n",
            "12/12 [==============================] - 3s 210ms/step - loss: 5.8325e-04 - val_loss: 0.0036\n",
            "Epoch 15/30\n",
            "12/12 [==============================] - 3s 210ms/step - loss: 6.0261e-04 - val_loss: 0.0048\n",
            "Epoch 16/30\n",
            "12/12 [==============================] - 3s 211ms/step - loss: 6.1034e-04 - val_loss: 0.0044\n",
            "Epoch 17/30\n",
            "12/12 [==============================] - 3s 217ms/step - loss: 5.5770e-04 - val_loss: 0.0043\n",
            "Epoch 18/30\n",
            "12/12 [==============================] - 3s 210ms/step - loss: 5.6403e-04 - val_loss: 0.0038\n",
            "Epoch 19/30\n",
            "12/12 [==============================] - 3s 211ms/step - loss: 5.4737e-04 - val_loss: 0.0033\n",
            "Epoch 20/30\n",
            "12/12 [==============================] - 2s 209ms/step - loss: 5.2821e-04 - val_loss: 0.0029\n",
            "Epoch 21/30\n",
            "12/12 [==============================] - 3s 212ms/step - loss: 5.1121e-04 - val_loss: 0.0028\n",
            "Epoch 22/30\n",
            "12/12 [==============================] - 2s 209ms/step - loss: 5.2619e-04 - val_loss: 0.0033\n",
            "Epoch 23/30\n",
            "12/12 [==============================] - 3s 212ms/step - loss: 5.5385e-04 - val_loss: 0.0041\n",
            "Epoch 24/30\n",
            "12/12 [==============================] - 2s 208ms/step - loss: 5.4570e-04 - val_loss: 0.0031\n",
            "Epoch 25/30\n",
            "12/12 [==============================] - 3s 212ms/step - loss: 4.8232e-04 - val_loss: 0.0027\n",
            "Epoch 26/30\n",
            "12/12 [==============================] - 3s 209ms/step - loss: 4.6840e-04 - val_loss: 0.0024\n",
            "Epoch 27/30\n",
            "12/12 [==============================] - 2s 209ms/step - loss: 4.6634e-04 - val_loss: 0.0026\n",
            "Epoch 28/30\n",
            "12/12 [==============================] - 3s 210ms/step - loss: 4.6322e-04 - val_loss: 0.0032\n",
            "Epoch 29/30\n",
            "12/12 [==============================] - 3s 212ms/step - loss: 4.6668e-04 - val_loss: 0.0024\n",
            "Epoch 30/30\n",
            "12/12 [==============================] - 3s 212ms/step - loss: 4.5779e-04 - val_loss: 0.0022\n"
          ]
        },
        {
          "output_type": "execute_result",
          "data": {
            "text/plain": [
              "<keras.callbacks.History at 0x7effdcbbe710>"
            ]
          },
          "metadata": {},
          "execution_count": 29
        }
      ]
    },
    {
      "cell_type": "code",
      "source": [
        "import tensorflow as tf"
      ],
      "metadata": {
        "id": "WheFs1uIGlgb"
      },
      "execution_count": null,
      "outputs": []
    },
    {
      "cell_type": "code",
      "source": [
        "### Lets Do the prediction and check performance metrics\n",
        "train_predict=model.predict(X_train)\n",
        "test_predict=model.predict(X_test)\n",
        "\n",
        "##Transformback to original form\n",
        "train_predict=scaler.inverse_transform(train_predict)\n",
        "test_predict=scaler.inverse_transform(test_predict)\n",
        "\n",
        "### Calculate RMSE performance metrics\n",
        "import math\n",
        "from sklearn.metrics import mean_squared_error\n",
        "math.sqrt(mean_squared_error(y_train,train_predict))"
      ],
      "metadata": {
        "colab": {
          "base_uri": "https://localhost:8080/"
        },
        "id": "eAybAKuVG2n3",
        "outputId": "304fe9dd-549c-4139-983f-f772675b8eba"
      },
      "execution_count": null,
      "outputs": [
        {
          "output_type": "execute_result",
          "data": {
            "text/plain": [
              "142.10836306223905"
            ]
          },
          "metadata": {},
          "execution_count": 31
        }
      ]
    },
    {
      "cell_type": "code",
      "source": [
        "### Test Data RMSE\n",
        "math.sqrt(mean_squared_error(ytest,test_predict))"
      ],
      "metadata": {
        "colab": {
          "base_uri": "https://localhost:8080/"
        },
        "id": "BN_A8Nc9HDoF",
        "outputId": "357e99d0-60cc-4723-e728-e0528fc3909f"
      },
      "execution_count": null,
      "outputs": [
        {
          "output_type": "execute_result",
          "data": {
            "text/plain": [
              "236.04612719869297"
            ]
          },
          "metadata": {},
          "execution_count": 32
        }
      ]
    },
    {
      "cell_type": "code",
      "source": [
        "### Plotting \n",
        "# shift train predictions for plotting\n",
        "look_back=100\n",
        "trainPredictPlot = numpy.empty_like(df1)\n",
        "trainPredictPlot[:, :] = np.nan\n",
        "trainPredictPlot[look_back:len(train_predict)+look_back, :] = train_predict\n",
        "# shift test predictions for plotting\n",
        "testPredictPlot = numpy.empty_like(df1)\n",
        "testPredictPlot[:, :] = numpy.nan\n",
        "testPredictPlot[len(train_predict)+(look_back*2)+1:len(df1)-1, :] = test_predict\n",
        "# plot baseline and predictions\n",
        "plt.plot(scaler.inverse_transform(df1))\n",
        "plt.plot(trainPredictPlot)\n",
        "plt.plot(testPredictPlot)\n",
        "plt.show()"
      ],
      "metadata": {
        "id": "Yo9aaO9mHH_R",
        "outputId": "42e796a8-e3f0-4e13-b1f4-4e2f4233388f",
        "colab": {
          "base_uri": "https://localhost:8080/",
          "height": 264
        }
      },
      "execution_count": null,
      "outputs": [
        {
          "output_type": "display_data",
          "data": {
            "image/png": "[encoded data removed]",
            "text/plain": [
              "<Figure size 432x288 with 1 Axes>"
            ]
          },
          "metadata": {
            "needs_background": "light"
          }
        }
      ]
    },
    {
      "cell_type": "code",
      "source": [
        "len(test_data)"
      ],
      "metadata": {
        "id": "D87_BMqOHLcy",
        "colab": {
          "base_uri": "https://localhost:8080/"
        },
        "outputId": "aaa662c7-8af4-42c8-bf0b-fd0a004fe5ef"
      },
      "execution_count": null,
      "outputs": [
        {
          "output_type": "execute_result",
          "data": {
            "text/plain": [
              "441"
            ]
          },
          "metadata": {},
          "execution_count": 34
        }
      ]
    },
    {
      "cell_type": "code",
      "source": [
        "x_input=test_data[341:].reshape(1,-1)\n",
        "x_input.shape"
      ],
      "metadata": {
        "colab": {
          "base_uri": "https://localhost:8080/"
        },
        "id": "4yOEZ6TO3a0Z",
        "outputId": "9c138d0f-da16-47f7-e264-c8d526296725"
      },
      "execution_count": null,
      "outputs": [
        {
          "output_type": "execute_result",
          "data": {
            "text/plain": [
              "(1, 100)"
            ]
          },
          "metadata": {},
          "execution_count": 35
        }
      ]
    },
    {
      "cell_type": "code",
      "source": [
        "temp_input=list(x_input)\n",
        "temp_input=temp_input[0].tolist()\n",
        "temp_input"
      ],
      "metadata": {
        "colab": {
          "base_uri": "https://localhost:8080/"
        },
        "id": "17afbqxq3gfo",
        "outputId": "fde22c5c-3635-421a-980f-0e72274a2e9f"
      },
      "execution_count": null,
      "outputs": [
        {
          "output_type": "execute_result",
          "data": {
            "text/plain": [
              "[0.8583551465000423,\n",
              " 0.8866418981676942,\n",
              " 0.8743139407244789,\n",
              " 0.8843198513890065,\n",
              " 0.8783669678290975,\n",
              " 0.8986321033521913,\n",
              " 0.925821160179009,\n",
              " 0.9287764924427933,\n",
              " 0.9567677108840666,\n",
              " 0.9386979650426415,\n",
              " 0.933040614709111,\n",
              " 0.9495060373216249,\n",
              " 0.9642404796082076,\n",
              " 0.9551211686228154,\n",
              " 0.9598919192772104,\n",
              " 0.9663514312251966,\n",
              " 0.9624672802499368,\n",
              " 0.9229502659799038,\n",
              " 0.9598497002448705,\n",
              " 0.9879253567508233,\n",
              " 0.985941062230854,\n",
              " 0.9253145317909315,\n",
              " 0.9217259140420504,\n",
              " 0.964747107996285,\n",
              " 0.9757240564046274,\n",
              " 0.9915984125643842,\n",
              " 0.9697289538123788,\n",
              " 0.9761462467280253,\n",
              " 0.9679557544541082,\n",
              " 1.0000000000000002,\n",
              " 0.9901629654648318,\n",
              " 0.9905007177235499,\n",
              " 0.9653803934813816,\n",
              " 0.9848855864223593,\n",
              " 0.9708688676855528,\n",
              " 0.9402600692392133,\n",
              " 0.8774803681499621,\n",
              " 0.8348391454867856,\n",
              " 0.8541332432660644,\n",
              " 0.7733682344000676,\n",
              " 0.7726927298826314,\n",
              " 0.8801401671873683,\n",
              " 0.8400743054969182,\n",
              " 0.8967322468969012,\n",
              " 0.8552731571392387,\n",
              " 0.8388499535590646,\n",
              " 0.7423372456303303,\n",
              " 0.8232711306256861,\n",
              " 0.7814320695769654,\n",
              " 0.6665963016127672,\n",
              " 0.7921557037912694,\n",
              " 0.6411804441442204,\n",
              " 0.6861437135860848,\n",
              " 0.6600101325677616,\n",
              " 0.6520307354555435,\n",
              " 0.5864223591995272,\n",
              " 0.5658616904500551,\n",
              " 0.660896732246897,\n",
              " 0.6551549438486872,\n",
              " 0.7097019336316812,\n",
              " 0.664527569028118,\n",
              " 0.6943764248923416,\n",
              " 0.692181035210673,\n",
              " 0.6356919699400492,\n",
              " 0.6526640209406402,\n",
              " 0.637802921557038,\n",
              " 0.7267162036646122,\n",
              " 0.7138816178333194,\n",
              " 0.7419150553069325,\n",
              " 0.7500211095161702,\n",
              " 0.7722283205268936,\n",
              " 0.8304905851557884,\n",
              " 0.8194291986827664,\n",
              " 0.8289706999915563,\n",
              " 0.8125474964113824,\n",
              " 0.7877649244279323,\n",
              " 0.7516254327450818,\n",
              " 0.7842607447437306,\n",
              " 0.7797433082833742,\n",
              " 0.8132652199611587,\n",
              " 0.8141096006079542,\n",
              " 0.7947310647639958,\n",
              " 0.8333614793548934,\n",
              " 0.8589884319851391,\n",
              " 0.8390188296884238,\n",
              " 0.8562864139153934,\n",
              " 0.8748627881448958,\n",
              " 0.887824031073208,\n",
              " 0.9009541501308793,\n",
              " 0.9279321117959978,\n",
              " 0.9485349995778098,\n",
              " 0.9333361479354896,\n",
              " 0.9174617917757326,\n",
              " 0.925441188887951,\n",
              " 0.9177151059697712,\n",
              " 0.9483239044161109,\n",
              " 0.9406400405302711,\n",
              " 0.9663514312251966,\n",
              " 0.9563033015283293,\n",
              " 0.964915984125644]"
            ]
          },
          "metadata": {},
          "execution_count": 36
        }
      ]
    },
    {
      "cell_type": "code",
      "source": [
        "# demonstrate prediction for next 30 days\n",
        "from numpy import array\n",
        "\n",
        "lst_output=[]\n",
        "n_steps=100\n",
        "i=0\n",
        "while(i<30):\n",
        "    \n",
        "    if(len(temp_input)>100):\n",
        "        #print(temp_input)\n",
        "        x_input=np.array(temp_input[1:])\n",
        "       # print(\"{} day input {}\".format(i,x_input))\n",
        "        x_input=x_input.reshape(1,-1)\n",
        "        x_input = x_input.reshape((1, n_steps, 1))\n",
        "        #print(x_input)\n",
        "        yhat = model.predict(x_input, verbose=0)\n",
        "        print(\"{} day output {}\".format(i,yhat))\n",
        "        temp_input.extend(yhat[0].tolist())\n",
        "        temp_input=temp_input[1:]\n",
        "        #print(temp_input)\n",
        "        lst_output.extend(yhat.tolist())\n",
        "        i=i+1\n",
        "    else:\n",
        "        x_input = x_input.reshape((1, n_steps,1))\n",
        "        yhat = model.predict(x_input, verbose=0)\n",
        "        print(yhat[0])\n",
        "        temp_input.extend(yhat[0].tolist())\n",
        "        print(len(temp_input))\n",
        "        lst_output.extend(yhat.tolist())\n",
        "        i=i+1\n",
        "    \n",
        "\n",
        "#print(lst_output)"
      ],
      "metadata": {
        "colab": {
          "base_uri": "https://localhost:8080/"
        },
        "id": "O3fup0Ai4FQa",
        "outputId": "8d8a67ad-b641-4052-a63c-8b82a4153eba"
      },
      "execution_count": null,
      "outputs": [
        {
          "output_type": "stream",
          "name": "stdout",
          "text": [
            "[0.92224747]\n",
            "101\n",
            "1 day output [[0.9266445]]\n",
            "2 day output [[0.9296863]]\n",
            "3 day output [[0.93149114]]\n",
            "4 day output [[0.9322754]]\n",
            "5 day output [[0.9322773]]\n",
            "6 day output [[0.9317147]]\n",
            "7 day output [[0.93076897]]\n",
            "8 day output [[0.9295799]]\n",
            "9 day output [[0.92825]]\n",
            "10 day output [[0.9268501]]\n",
            "11 day output [[0.925427]]\n",
            "12 day output [[0.92400944]]\n",
            "13 day output [[0.92261404]]\n",
            "14 day output [[0.9212499]]\n",
            "15 day output [[0.9199201]]\n",
            "16 day output [[0.91862595]]\n",
            "17 day output [[0.9173665]]\n",
            "18 day output [[0.9161403]]\n",
            "19 day output [[0.91494536]]\n",
            "20 day output [[0.91378075]]\n",
            "21 day output [[0.9126444]]\n",
            "22 day output [[0.91153526]]\n",
            "23 day output [[0.9104521]]\n",
            "24 day output [[0.9093939]]\n",
            "25 day output [[0.9083598]]\n",
            "26 day output [[0.90734863]]\n",
            "27 day output [[0.90636015]]\n",
            "28 day output [[0.9053927]]\n",
            "29 day output [[0.90444624]]\n"
          ]
        }
      ]
    },
    {
      "cell_type": "code",
      "source": [
        "day_new=np.arange(1,101)\n",
        "day_pred=np.arange(101,131)"
      ],
      "metadata": {
        "id": "sCG8Bmgr4Q5c"
      },
      "execution_count": null,
      "outputs": []
    },
    {
      "cell_type": "code",
      "source": [
        "import matplotlib.pyplot as plt"
      ],
      "metadata": {
        "id": "TYJjyDzz40ZU"
      },
      "execution_count": null,
      "outputs": []
    },
    {
      "cell_type": "code",
      "source": [
        "len(df1)"
      ],
      "metadata": {
        "colab": {
          "base_uri": "https://localhost:8080/"
        },
        "id": "v1Ght3HA45Rz",
        "outputId": "2450dbc6-32d6-4918-c7f9-d945658d71c3"
      },
      "execution_count": null,
      "outputs": [
        {
          "output_type": "execute_result",
          "data": {
            "text/plain": [
              "1258"
            ]
          },
          "metadata": {},
          "execution_count": 40
        }
      ]
    },
    {
      "cell_type": "code",
      "source": [
        "plt.plot(day_new,scaler.inverse_transform(df1[1158:]))\n",
        "plt.plot(day_pred,scaler.inverse_transform(lst_output))"
      ],
      "metadata": {
        "colab": {
          "base_uri": "https://localhost:8080/",
          "height": 283
        },
        "id": "g9sGwm1O47X2",
        "outputId": "ad191719-1aa6-4208-b8a1-eb7a6cf45413"
      },
      "execution_count": null,
      "outputs": [
        {
          "output_type": "execute_result",
          "data": {
            "text/plain": [
              "[<matplotlib.lines.Line2D at 0x7effdce3dd90>]"
            ]
          },
          "metadata": {},
          "execution_count": 41
        },
        {
          "output_type": "display_data",
          "data": {
            "image/png": "[encoded data removed]",
            "text/plain": [
              "<Figure size 432x288 with 1 Axes>"
            ]
          },
          "metadata": {
            "needs_background": "light"
          }
        }
      ]
    },
    {
      "cell_type": "code",
      "source": [
        "df3=df1.tolist()\n",
        "df3.extend(lst_output)\n",
        "plt.plot(df3[1200:])"
      ],
      "metadata": {
        "colab": {
          "base_uri": "https://localhost:8080/",
          "height": 283
        },
        "id": "kMNzn0je5DhU",
        "outputId": "913eb564-3753-424e-8ee2-31877103cbe8"
      },
      "execution_count": null,
      "outputs": [
        {
          "output_type": "execute_result",
          "data": {
            "text/plain": [
              "[<matplotlib.lines.Line2D at 0x7effdcb29110>]"
            ]
          },
          "metadata": {},
          "execution_count": 42
        },
        {
          "output_type": "display_data",
          "data": {
            "image/png": "[encoded data removed]",
            "text/plain": [
              "<Figure size 432x288 with 1 Axes>"
            ]
          },
          "metadata": {
            "needs_background": "light"
          }
        }
      ]
    },
    {
      "cell_type": "code",
      "source": [
        "df3=scaler.inverse_transform(df3).tolist()\n",
        "plt.plot(df3)"
      ],
      "metadata": {
        "colab": {
          "base_uri": "https://localhost:8080/",
          "height": 283
        },
        "id": "DONMM3dx_mmx",
        "outputId": "3e0d59d9-f733-47f2-dc3e-daeaf60f4360"
      },
      "execution_count": null,
      "outputs": [
        {
          "output_type": "execute_result",
          "data": {
            "text/plain": [
              "[<matplotlib.lines.Line2D at 0x7effda8aa4d0>]"
            ]
          },
          "metadata": {},
          "execution_count": 43
        },
        {
          "output_type": "display_data",
          "data": {
            "image/png": "[encoded data removed]",
            "text/plain": [
              "<Figure size 432x288 with 1 Axes>"
            ]
          },
          "metadata": {
            "needs_background": "light"
          }
        }
      ]
    },
    {
      "cell_type": "code",
      "source": [
        ""
      ],
      "metadata": {
        "id": "AH3pZ4kQ_n-9"
      },
      "execution_count": null,
      "outputs": []
    }
  ]
}